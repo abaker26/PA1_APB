{
 "cells": [
  {
   "cell_type": "markdown",
   "id": "a6207600-9e54-4fe9-bf7a-77299be1e6c9",
   "metadata": {},
   "source": [
    "# Programming Assignment 1\n",
    "---\n",
    "**Author:** Allie Baker  \n",
    "**Version:** 1.0  \n",
    "**Semester:** Spring 2024 \n",
    "\n",
    "This *notebook* contains my solution(s) to **Programming Assignment 1**"
   ]
  },
  {
   "cell_type": "markdown",
   "id": "708d863a-bfee-43fd-a211-ebf5cd27af7b",
   "metadata": {},
   "source": [
    "### Problem 1 - Manipulating Numbers "
   ]
  },
  {
   "cell_type": "code",
   "execution_count": 1,
   "id": "75e4bc38-1059-41c6-b5ae-27fcdcad3273",
   "metadata": {},
   "outputs": [
    {
     "name": "stdin",
     "output_type": "stream",
     "text": [
      "Enter a floating point number:  44.3\n"
     ]
    }
   ],
   "source": [
    "a = float(input(\"Enter a floating point number: \"))"
   ]
  },
  {
   "cell_type": "code",
   "execution_count": 28,
   "id": "d05276c6-6ff2-497d-9615-124783d752f0",
   "metadata": {},
   "outputs": [
    {
     "name": "stdin",
     "output_type": "stream",
     "text": [
      "Enter an integer: 16\n"
     ]
    }
   ],
   "source": [
    "b = input('Enter an integer:')"
   ]
  },
  {
   "cell_type": "code",
   "execution_count": 26,
   "id": "bac4a852-7887-4cf1-b60d-375bbc00e961",
   "metadata": {
    "tags": []
   },
   "outputs": [
    {
     "name": "stdout",
     "output_type": "stream",
     "text": [
      "The sum is 60.300.\n"
     ]
    }
   ],
   "source": [
    "result = float(a) + int(b) \n",
    "print(f'The sum is {result:.3f}.')"
   ]
  },
  {
   "cell_type": "code",
   "execution_count": 27,
   "id": "7da6c201-1358-4e22-809a-f23dd24eb8b7",
   "metadata": {
    "tags": []
   },
   "outputs": [
    {
     "name": "stdout",
     "output_type": "stream",
     "text": [
      "The difference is 28.300.\n"
     ]
    }
   ],
   "source": [
    "result = float(a) - int(b)\n",
    "print(f'The difference is {result:.3f}.')"
   ]
  },
  {
   "cell_type": "code",
   "execution_count": 29,
   "id": "ed30ea41-e40f-4b84-99d7-2fe81d7bcbfd",
   "metadata": {
    "tags": []
   },
   "outputs": [
    {
     "name": "stdout",
     "output_type": "stream",
     "text": [
      "The product is 708.800.\n"
     ]
    }
   ],
   "source": [
    "result = float(a) * int(b)\n",
    "print(f'The product is {result:.3f}.')"
   ]
  },
  {
   "cell_type": "code",
   "execution_count": 30,
   "id": "e10b909e-77d6-4930-bb30-0d78e4041cbc",
   "metadata": {
    "tags": []
   },
   "outputs": [
    {
     "name": "stdout",
     "output_type": "stream",
     "text": [
      "The quotient is 2.769.\n"
     ]
    }
   ],
   "source": [
    "result = float(a) / int(b)\n",
    "print(f'The quotient is {result:.3f}.')"
   ]
  },
  {
   "cell_type": "code",
   "execution_count": 1,
   "id": "2387202b-1680-4e13-ba53-88f1b3212527",
   "metadata": {
    "tags": []
   },
   "outputs": [
    {
     "name": "stdout",
     "output_type": "stream",
     "text": [
      "The type for the result is <class 'float'>.\n"
     ]
    }
   ],
   "source": [
    "result = float\n",
    "print (f'The type for the result is {result}.')"
   ]
  },
  {
   "cell_type": "markdown",
   "id": "19bce69f-fb53-44eb-aa9d-083c44a9dbb9",
   "metadata": {},
   "source": [
    "### Problem 2 - Calculating Target Heart Rate "
   ]
  },
  {
   "cell_type": "code",
   "execution_count": 39,
   "id": "b70b117c-db76-4e03-8b4b-079e1e96f562",
   "metadata": {
    "tags": []
   },
   "outputs": [
    {
     "name": "stdin",
     "output_type": "stream",
     "text": [
      "Enter age of user 20\n"
     ]
    }
   ],
   "source": [
    "age = input('Enter age of user')"
   ]
  },
  {
   "cell_type": "code",
   "execution_count": 43,
   "id": "bad40ace-9562-49a5-81a8-ffc29168fcc2",
   "metadata": {
    "tags": []
   },
   "outputs": [
    {
     "name": "stdout",
     "output_type": "stream",
     "text": [
      "200\n"
     ]
    }
   ],
   "source": [
    "max_heart_rate = 220 - int(age)\n",
    "print(max_heart_rate)"
   ]
  },
  {
   "cell_type": "code",
   "execution_count": 48,
   "id": "080cee76-a76d-42d9-b112-7a7fbc57f40c",
   "metadata": {
    "tags": []
   },
   "outputs": [
    {
     "name": "stdout",
     "output_type": "stream",
     "text": [
      "100.0\n"
     ]
    }
   ],
   "source": [
    "lower = int(max_heart_rate) * .50\n",
    "print(lower)"
   ]
  },
  {
   "cell_type": "code",
   "execution_count": 49,
   "id": "be2ca1d3-db64-4a19-9c37-9b028e60d573",
   "metadata": {
    "tags": []
   },
   "outputs": [
    {
     "name": "stdout",
     "output_type": "stream",
     "text": [
      "170.0\n"
     ]
    }
   ],
   "source": [
    "upper = int(max_heart_rate) * .85\n",
    "print(upper)"
   ]
  },
  {
   "cell_type": "code",
   "execution_count": 58,
   "id": "3ba3b40f-d9c9-4fc8-a0ac-610680fed67c",
   "metadata": {
    "tags": []
   },
   "outputs": [
    {
     "name": "stdout",
     "output_type": "stream",
     "text": [
      "Max heart rate is 200\n",
      "Lower heart rate is 100.0\n",
      "Upper heart rate is 170.0\n"
     ]
    }
   ],
   "source": [
    "result = (f'Max heart rate is {max_heart_rate}')\n",
    "print(result)\n",
    "result = (f'Lower heart rate is {lower}')\n",
    "print(result)\n",
    "result = (f'Upper heart rate is {upper}')\n",
    "print(result)"
   ]
  },
  {
   "cell_type": "code",
   "execution_count": null,
   "id": "fff017ea-e1c5-4297-98e6-0bf27ccaf38f",
   "metadata": {},
   "outputs": [],
   "source": []
  }
 ],
 "metadata": {
  "kernelspec": {
   "display_name": "Python 3 (ipykernel)",
   "language": "python",
   "name": "python3"
  },
  "language_info": {
   "codemirror_mode": {
    "name": "ipython",
    "version": 3
   },
   "file_extension": ".py",
   "mimetype": "text/x-python",
   "name": "python",
   "nbconvert_exporter": "python",
   "pygments_lexer": "ipython3",
   "version": "3.11.5"
  }
 },
 "nbformat": 4,
 "nbformat_minor": 5
}
